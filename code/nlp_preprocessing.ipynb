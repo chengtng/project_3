{
 "cells": [
  {
   "cell_type": "code",
   "execution_count": 1,
   "id": "0f0c4e7a-b053-42a6-8e06-5dc9d5dfffc2",
   "metadata": {},
   "outputs": [],
   "source": [
    "import matplotlib.pyplot as plt\n",
    "import pandas as pd\n",
    "import seaborn as sns\n",
    "import csv\n",
    "from sklearn.model_selection import train_test_split, GridSearchCV\n",
    "from sklearn.pipeline import Pipeline\n",
    "from sklearn.naive_bayes import MultinomialNB\n",
    "from sklearn.linear_model import LogisticRegression\n",
    "from sklearn.metrics import confusion_matrix, plot_confusion_matrix\n",
    "from sklearn.feature_extraction.text import CountVectorizer, TfidfVectorizer\n",
    "from nltk import word_tokenize          \n",
    "from nltk.stem import WordNetLemmatizer \n",
    "import warnings\n",
    "import nltk\n",
    "warnings.filterwarnings('ignore')\n",
    "pd.options.display.max_colwidth = 400"
   ]
  },
  {
   "cell_type": "markdown",
   "id": "f71b32f4-9cc0-4547-8f88-04e04a6aac74",
   "metadata": {
    "tags": []
   },
   "source": [
    "### Pre-processing\n",
    "\n",
    "* Remove special characters\n",
    "* Tokenise\n",
    "* Stemming\n",
    "* Stop words removal"
   ]
  },
  {
   "cell_type": "code",
   "execution_count": 2,
   "id": "b437603c-6dfe-4925-aa24-d4814a06056b",
   "metadata": {
    "scrolled": true,
    "tags": []
   },
   "outputs": [
    {
     "data": {
      "text/plain": [
       "Index(['Unnamed: 0', 'subreddit', 'selftext', 'author', 'title', 'score',\n",
       "       'num_comments', 'utc_datetime_str', 'fullmessage', 'text_length',\n",
       "       'text_word_count', 'contain_aws', 'contain_az', 'timestamp',\n",
       "       'post_age_days', 'has_comments', 'target', 'contain_invalid_char'],\n",
       "      dtype='object')"
      ]
     },
     "execution_count": 2,
     "metadata": {},
     "output_type": "execute_result"
    }
   ],
   "source": [
    "df = pd.read_csv('../data/data_clean.csv')\n",
    "df.columns"
   ]
  },
  {
   "cell_type": "code",
   "execution_count": 3,
   "id": "f1c2bbd2-735a-4845-8fed-e71009286466",
   "metadata": {
    "scrolled": true,
    "tags": []
   },
   "outputs": [
    {
     "data": {
      "text/plain": [
       "(9393, 18)"
      ]
     },
     "execution_count": 3,
     "metadata": {},
     "output_type": "execute_result"
    }
   ],
   "source": [
    "df.shape"
   ]
  },
  {
   "cell_type": "markdown",
   "id": "e4118da0-537a-4fd7-bfb0-ff7022752936",
   "metadata": {},
   "source": [
    "### Count Vectoriser\n",
    "* Transform text into a word vector matrix. The matrix will be very sparse"
   ]
  },
  {
   "cell_type": "code",
   "execution_count": 4,
   "id": "61b31906-9cc5-458b-a802-75a72c0903c2",
   "metadata": {},
   "outputs": [],
   "source": [
    "selected_columns = ['fullmessage', 'text_length',\n",
    "       'text_word_count', 'contain_aws', 'contain_az', 'timestamp',\n",
    "       'post_age_days', 'has_comments']\n",
    "\n",
    "X= df['fullmessage']\n",
    "y= df['target']\n",
    "\n",
    "X_train, X_test, y_train, y_test = train_test_split(X,\n",
    "                                                    y,\n",
    "                                                    test_size=0.33,\n",
    "                                                    stratify=y,\n",
    "                                                    random_state=42)"
   ]
  },
  {
   "cell_type": "code",
   "execution_count": 6,
   "id": "f61275a8-446a-4cc3-b0ae-673cead60f51",
   "metadata": {},
   "outputs": [
    {
     "data": {
      "text/plain": [
       "<6293x14347 sparse matrix of type '<class 'numpy.int64'>'\n",
       "\twith 160076 stored elements in Compressed Sparse Row format>"
      ]
     },
     "execution_count": 6,
     "metadata": {},
     "output_type": "execute_result"
    }
   ],
   "source": [
    "# Count vectoriser\n",
    "\n",
    "cvec = CountVectorizer(stop_words='english')\n",
    "cvec.fit(X_train)\n",
    "X_train = cvec.transform(X_train)\n",
    "X_train"
   ]
  },
  {
   "cell_type": "code",
   "execution_count": 7,
   "id": "a6e8a616-1ad6-42d2-b462-be7477c59dca",
   "metadata": {},
   "outputs": [
    {
     "data": {
      "text/plain": [
       "array(['account', 'accountancy', 'accountants', 'accountid', 'accounting',\n",
       "       'accountnumber', 'accounts', 'accout', 'accoutn', 'accross'],\n",
       "      dtype=object)"
      ]
     },
     "execution_count": 7,
     "metadata": {},
     "output_type": "execute_result"
    }
   ],
   "source": [
    "cvec.get_feature_names_out()[1000:1010]"
   ]
  },
  {
   "cell_type": "code",
   "execution_count": 8,
   "id": "30f58519-aa2d-473d-a844-7fd18975fbb8",
   "metadata": {},
   "outputs": [
    {
     "data": {
      "text/plain": [
       "<3100x14347 sparse matrix of type '<class 'numpy.int64'>'\n",
       "\twith 77334 stored elements in Compressed Sparse Row format>"
      ]
     },
     "execution_count": 8,
     "metadata": {},
     "output_type": "execute_result"
    }
   ],
   "source": [
    "# Transform test\n",
    "X_test = cvec.transform(X_test)\n",
    "X_test"
   ]
  },
  {
   "cell_type": "code",
   "execution_count": 9,
   "id": "51cf8f45-0072-4efd-a98f-18ded91f3e6d",
   "metadata": {},
   "outputs": [
    {
     "data": {
      "image/png": "[encoded data removed]",
      "text/plain": [
       "<Figure size 640x480 with 1 Axes>"
      ]
     },
     "metadata": {},
     "output_type": "display_data"
    }
   ],
   "source": [
    "# convert training data to dataframe\n",
    "X_train_df = pd.DataFrame(X_train.todense(), \n",
    "                          columns=cvec.get_feature_names_out())\n",
    "\n",
    "# plot top occuring words\n",
    "X_train_df.sum().sort_values(ascending=False).head(10).plot(kind='barh');"
   ]
  },
  {
   "cell_type": "markdown",
   "id": "2d18f2a6-b7f0-424e-91b6-7dc5827cd602",
   "metadata": {},
   "source": [
    "### TFIDF Vectorizer\n",
    "* TF-IDF Vectoriser is an improvement of CountVectoriser\n",
    "* Handles tokenisation and lemmatization"
   ]
  },
  {
   "cell_type": "code",
   "execution_count": 10,
   "id": "30755daf-12e0-448f-b2d7-90ab69f73986",
   "metadata": {},
   "outputs": [],
   "source": [
    "# Redefine training and testing sets.\n",
    "X_train, X_test, y_train, y_test = train_test_split(X,\n",
    "                                                    y,\n",
    "                                                    test_size=0.33,\n",
    "                                                    stratify=y,\n",
    "                                                    random_state=42)"
   ]
  },
  {
   "cell_type": "code",
   "execution_count": 11,
   "id": "78a22264-96b2-4789-9590-b52156260e7d",
   "metadata": {},
   "outputs": [
    {
     "data": {
      "text/plain": [
       "1    0.500968\n",
       "0    0.499032\n",
       "Name: target, dtype: float64"
      ]
     },
     "execution_count": 11,
     "metadata": {},
     "output_type": "execute_result"
    }
   ],
   "source": [
    "y_test.value_counts(normalize=True)"
   ]
  },
  {
   "cell_type": "code",
   "execution_count": 12,
   "id": "9180b150-e44a-483a-b969-9b51334ec8a8",
   "metadata": {},
   "outputs": [],
   "source": [
    "tvec = TfidfVectorizer(stop_words='english')"
   ]
  },
  {
   "cell_type": "code",
   "execution_count": 13,
   "id": "84393281-8a60-49bc-ab65-3cb1e2991625",
   "metadata": {},
   "outputs": [
    {
     "data": {
      "text/plain": [
       "(6293, 14347)"
      ]
     },
     "execution_count": 13,
     "metadata": {},
     "output_type": "execute_result"
    }
   ],
   "source": [
    "# convert training data to dataframe\n",
    "X_train_df = pd.DataFrame(tvec.fit_transform(X_train).todense(), \n",
    "                          columns=tvec.get_feature_names_out())\n",
    "X_train_df.shape"
   ]
  },
  {
   "cell_type": "code",
   "execution_count": 14,
   "id": "16878c4b-f484-432f-8d7d-979586cd13c7",
   "metadata": {},
   "outputs": [
    {
     "data": {
      "image/png": "[encoded data removed]",
      "text/plain": [
       "<Figure size 640x480 with 1 Axes>"
      ]
     },
     "metadata": {},
     "output_type": "display_data"
    }
   ],
   "source": [
    "# plot top occuring words\n",
    "X_train_df.sum().sort_values(ascending=False).head(10).plot(kind='barh');"
   ]
  },
  {
   "cell_type": "markdown",
   "id": "ebed7c33-b3cd-4f5b-baf5-78bec423b53f",
   "metadata": {},
   "source": [
    "### Model\n",
    "1. Base line\n",
    "2. Naive Bayes\n",
    "3. Logistic Regression\n",
    "4. Decision Tree - Random Forest\n",
    "5. SVM"
   ]
  },
  {
   "cell_type": "code",
   "execution_count": 15,
   "id": "145494ba-6404-4d78-a63d-82cf5ef0e268",
   "metadata": {},
   "outputs": [],
   "source": [
    "results = pd.DataFrame([], columns = ['model', 'vectoriser', 'hyperparameters','recall/sensitivity','accuracy'])"
   ]
  },
  {
   "cell_type": "markdown",
   "id": "ca5c2fb5-5e17-48d9-a3f5-cb15dbc1a2fd",
   "metadata": {},
   "source": [
    "## Understanding which metric to use for model evaluation and confusion matrix\n",
    "\n",
    "For this project we assign AWS as positive and Azure as negative classification because the hypothetical company relies more on AWS cloud services in comparison to azure. Hence there is much more urgency for production team to respond to AWS related events and the model need to classify AWS events correctly. \n",
    "\n",
    "Accuracy: Ability to classify correctly over the total number of records. For example, for 50 AWS events and 50 Azure events, to obtain 80% accuracy the following criterias neeeds to be met:\n",
    "* 40 AWS events and 40 Azure events classified correctly\n",
    "* 60 AWS events and 20 Azure events classified correctly\n",
    "* 20 AWS events and 60 Azure events classified correctly\n",
    "* This is no need to place any emphasis on which class is predicted more correctly.\n",
    "\n",
    "Precision: Ability to correctly identify AWS posts (TP/(TP+FP)). For example, for 50 AWS events and 50 Azure events, to get 80%, the following criteria needs to be met: \n",
    "* 40 AWS correctly predicted as AWS events, 10 Azure events wrongly predicted as AWS events\n",
    "* This score will become lower if more Azure events are misclassified.\n",
    "\n",
    "TPR/Recall/Sensitivity: Ability to correctly identify all AWS posts (TP/(TP+FN)). For example, for 50 AWS events and 50 Azure events, to get 80%, the following criteria needs to be met: \n",
    "* 40 AWS correctly predicted as AWS events, remaining 10 AWS events wrongly predicted as Azure events\n",
    "* This score will become lower if more AWS events are misclassified.\n",
    "\n",
    "Specificity: Ability to correctly identify Azure posts (TN/(TN+FP)). For example, for 50 AWS events and 50 Azure events, to get 80%, the following criteria needs to be met: \n",
    "* 40 Azure correctly predicted as Azure events, remaining 10 Azure wrongly predicted as Aws events\n",
    "* This score will become lower if more Azure events are misclassified.\n",
    "\n",
    "F1 score: Weighted average of precision and TPR/recall/sensitivity.\n",
    "\n",
    "In this case we choose both accuracy and TPR/recall/sensitivity, because there is priority for AWS events to be correctly identified."
   ]
  },
  {
   "cell_type": "markdown",
   "id": "a394cba0-c215-4c45-8324-d3d1b6401974",
   "metadata": {},
   "source": [
    "## 1. Baseline model\n",
    "\n",
    "The baseline model is a simple model that checks if keyword \"Aws\" and \"Azure\" exists in the post to determine the post classification. \n",
    "\n",
    "1. Contains keyword 'AWS' or 'Amazon' -> Aws\n",
    "2. Contains keyowrd 'Microsoft' or 'Azure' -> Azure\n",
    "3. Randomly classify if contains both or neither keywords"
   ]
  },
  {
   "cell_type": "code",
   "execution_count": 16,
   "id": "41c22542-0984-419e-a7b2-cbf5bb01868e",
   "metadata": {},
   "outputs": [
    {
     "data": {
      "text/plain": [
       "0"
      ]
     },
     "execution_count": 16,
     "metadata": {},
     "output_type": "execute_result"
    }
   ],
   "source": [
    "import random\n",
    "random.randint(0, 1)"
   ]
  },
  {
   "cell_type": "code",
   "execution_count": 17,
   "id": "d8fbc78a-1d49-45ac-bef1-922a13aa91ed",
   "metadata": {},
   "outputs": [],
   "source": [
    "def word_exist(text, key_words):    \n",
    "    return any(i in text.lower() for i in key_words)\n",
    "\n",
    "def base_model(x):\n",
    "    if word_exist(x, ['aws','amazon']):\n",
    "        return 1\n",
    "    elif word_exist(x, ['azure','microsoft']):\n",
    "        return 0\n",
    "    else:\n",
    "        return random.randint(0, 1)"
   ]
  },
  {
   "cell_type": "code",
   "execution_count": 18,
   "id": "07b4ce46-5dbc-4056-b8a8-fb2eaef5bb8a",
   "metadata": {},
   "outputs": [
    {
     "name": "stdout",
     "output_type": "stream",
     "text": [
      "[[3989  697]\n",
      " [1090 3617]]\n"
     ]
    }
   ],
   "source": [
    "y_test = df['target']\n",
    "y_pred = df['fullmessage'].apply(lambda x: base_model(x))\n",
    "\n",
    "tn, fp, fn, tp = confusion_matrix(y_test, y_pred).ravel() \n",
    "print(confusion_matrix(y_true= y_test, y_pred=y_pred))"
   ]
  },
  {
   "cell_type": "code",
   "execution_count": 19,
   "id": "e87c8959-65db-49d2-bfb3-9a8dded7c6b1",
   "metadata": {},
   "outputs": [
    {
     "name": "stdout",
     "output_type": "stream",
     "text": [
      "TPR/Recall/Sensitivity: 0.7684299978755046\n",
      "Accuracy: 0.8097519429362291\n"
     ]
    }
   ],
   "source": [
    "# Calculate the sensitivty\n",
    "score = tp / (tp+fn)\n",
    "acc = (tp+tn)/(tp+tn+fp+fn)\n",
    "print('TPR/Recall/Sensitivity:', score)\n",
    "print('Accuracy:', acc)"
   ]
  },
  {
   "cell_type": "code",
   "execution_count": 20,
   "id": "11c56090-4707-4172-aad1-e975ef84caf7",
   "metadata": {},
   "outputs": [
    {
     "data": {
      "text/html": [
       "<div>\n",
       "<style scoped>\n",
       "    .dataframe tbody tr th:only-of-type {\n",
       "        vertical-align: middle;\n",
       "    }\n",
       "\n",
       "    .dataframe tbody tr th {\n",
       "        vertical-align: top;\n",
       "    }\n",
       "\n",
       "    .dataframe thead th {\n",
       "        text-align: right;\n",
       "    }\n",
       "</style>\n",
       "<table border=\"1\" class=\"dataframe\">\n",
       "  <thead>\n",
       "    <tr style=\"text-align: right;\">\n",
       "      <th></th>\n",
       "      <th>model</th>\n",
       "      <th>vectoriser</th>\n",
       "      <th>hyperparameters</th>\n",
       "      <th>recall/sensitivity</th>\n",
       "      <th>accuracy</th>\n",
       "    </tr>\n",
       "  </thead>\n",
       "  <tbody>\n",
       "    <tr>\n",
       "      <th>0</th>\n",
       "      <td>baseline</td>\n",
       "      <td>N/A</td>\n",
       "      <td>N/A</td>\n",
       "      <td>0.76843</td>\n",
       "      <td>0.809752</td>\n",
       "    </tr>\n",
       "  </tbody>\n",
       "</table>\n",
       "</div>"
      ],
      "text/plain": [
       "      model vectoriser hyperparameters  recall/sensitivity  accuracy\n",
       "0  baseline        N/A             N/A             0.76843  0.809752"
      ]
     },
     "execution_count": 20,
     "metadata": {},
     "output_type": "execute_result"
    }
   ],
   "source": [
    "results = results.append({'model': 'baseline', \n",
    "                          'vectoriser': 'N/A',\n",
    "                          'hyperparameters': 'N/A', \n",
    "                          'recall/sensitivity': score,\n",
    "                          'accuracy':acc,\n",
    "                         }, ignore_index=True)\n",
    "results"
   ]
  },
  {
   "cell_type": "markdown",
   "id": "64d54620-3854-4472-8bbe-8213a3df13c1",
   "metadata": {},
   "source": [
    "## 2a. Naive Bayes with CountVectoriser\n",
    "\n",
    "We vectorise the text into a frequency vector before passing it into a Naive Bayes model for classification. The CountVectoriser handles the tokenising, lemmatisation and removal of punctuations under the hood. Naive Bayes classifier is based on features being independent of one another. Here we use Multinomial Naive Bayes classifier for document classification, to see which comment belong to Aws or Azure category.\n",
    "\n",
    "* Count vectoriser splits text into its component words as a vector\n",
    "* We get the frequency of each word as a vector against the entire list of words\n",
    "\n",
    "The disadvantages are: <br>\n",
    "1. Cannot identify important or less important words\n",
    "2. Consider the highest frequency words as the most important\n",
    "3. No relationship between words\n"
   ]
  },
  {
   "cell_type": "code",
   "execution_count": 21,
   "id": "80e7d6a4-20f3-4a86-b52e-db73c699a3b0",
   "metadata": {},
   "outputs": [
    {
     "data": {
      "text/html": [
       "<style>#sk-container-id-1 {color: black;background-color: white;}#sk-container-id-1 pre{padding: 0;}#sk-container-id-1 div.sk-toggleable {background-color: white;}#sk-container-id-1 label.sk-toggleable__label {cursor: pointer;display: block;width: 100%;margin-bottom: 0;padding: 0.3em;box-sizing: border-box;text-align: center;}#sk-container-id-1 label.sk-toggleable__label-arrow:before {content: \"▸\";float: left;margin-right: 0.25em;color: #696969;}#sk-container-id-1 label.sk-toggleable__label-arrow:hover:before {color: black;}#sk-container-id-1 div.sk-estimator:hover label.sk-toggleable__label-arrow:before {color: black;}#sk-container-id-1 div.sk-toggleable__content {max-height: 0;max-width: 0;overflow: hidden;text-align: left;background-color: #f0f8ff;}#sk-container-id-1 div.sk-toggleable__content pre {margin: 0.2em;color: black;border-radius: 0.25em;background-color: #f0f8ff;}#sk-container-id-1 input.sk-toggleable__control:checked~div.sk-toggleable__content {max-height: 200px;max-width: 100%;overflow: auto;}#sk-container-id-1 input.sk-toggleable__control:checked~label.sk-toggleable__label-arrow:before {content: \"▾\";}#sk-container-id-1 div.sk-estimator input.sk-toggleable__control:checked~label.sk-toggleable__label {background-color: #d4ebff;}#sk-container-id-1 div.sk-label input.sk-toggleable__control:checked~label.sk-toggleable__label {background-color: #d4ebff;}#sk-container-id-1 input.sk-hidden--visually {border: 0;clip: rect(1px 1px 1px 1px);clip: rect(1px, 1px, 1px, 1px);height: 1px;margin: -1px;overflow: hidden;padding: 0;position: absolute;width: 1px;}#sk-container-id-1 div.sk-estimator {font-family: monospace;background-color: #f0f8ff;border: 1px dotted black;border-radius: 0.25em;box-sizing: border-box;margin-bottom: 0.5em;}#sk-container-id-1 div.sk-estimator:hover {background-color: #d4ebff;}#sk-container-id-1 div.sk-parallel-item::after {content: \"\";width: 100%;border-bottom: 1px solid gray;flex-grow: 1;}#sk-container-id-1 div.sk-label:hover label.sk-toggleable__label {background-color: #d4ebff;}#sk-container-id-1 div.sk-serial::before {content: \"\";position: absolute;border-left: 1px solid gray;box-sizing: border-box;top: 0;bottom: 0;left: 50%;z-index: 0;}#sk-container-id-1 div.sk-serial {display: flex;flex-direction: column;align-items: center;background-color: white;padding-right: 0.2em;padding-left: 0.2em;position: relative;}#sk-container-id-1 div.sk-item {position: relative;z-index: 1;}#sk-container-id-1 div.sk-parallel {display: flex;align-items: stretch;justify-content: center;background-color: white;position: relative;}#sk-container-id-1 div.sk-item::before, #sk-container-id-1 div.sk-parallel-item::before {content: \"\";position: absolute;border-left: 1px solid gray;box-sizing: border-box;top: 0;bottom: 0;left: 50%;z-index: -1;}#sk-container-id-1 div.sk-parallel-item {display: flex;flex-direction: column;z-index: 1;position: relative;background-color: white;}#sk-container-id-1 div.sk-parallel-item:first-child::after {align-self: flex-end;width: 50%;}#sk-container-id-1 div.sk-parallel-item:last-child::after {align-self: flex-start;width: 50%;}#sk-container-id-1 div.sk-parallel-item:only-child::after {width: 0;}#sk-container-id-1 div.sk-dashed-wrapped {border: 1px dashed gray;margin: 0 0.4em 0.5em 0.4em;box-sizing: border-box;padding-bottom: 0.4em;background-color: white;}#sk-container-id-1 div.sk-label label {font-family: monospace;font-weight: bold;display: inline-block;line-height: 1.2em;}#sk-container-id-1 div.sk-label-container {text-align: center;}#sk-container-id-1 div.sk-container {/* jupyter's `normalize.less` sets `[hidden] { display: none; }` but bootstrap.min.css set `[hidden] { display: none !important; }` so we also need the `!important` here to be able to override the default hidden behavior on the sphinx rendered scikit-learn.org. See: https://github.com/scikit-learn/scikit-learn/issues/21755 */display: inline-block !important;position: relative;}#sk-container-id-1 div.sk-text-repr-fallback {display: none;}</style><div id=\"sk-container-id-1\" class=\"sk-top-container\"><div class=\"sk-text-repr-fallback\"><pre>GridSearchCV(cv=5,\n",
       "             estimator=Pipeline(steps=[(&#x27;cvec&#x27;,\n",
       "                                        CountVectorizer(stop_words=&#x27;english&#x27;)),\n",
       "                                       (&#x27;nb&#x27;, MultinomialNB())]),\n",
       "             param_grid={&#x27;cvec__max_df&#x27;: [0.25, 0.5, 0.75],\n",
       "                         &#x27;cvec__max_features&#x27;: [1000, 3000, 5000],\n",
       "                         &#x27;cvec__min_df&#x27;: [2, 3],\n",
       "                         &#x27;cvec__ngram_range&#x27;: [(1, 1), (1, 2), (1, 3)]})</pre><b>In a Jupyter environment, please rerun this cell to show the HTML representation or trust the notebook. <br />On GitHub, the HTML representation is unable to render, please try loading this page with nbviewer.org.</b></div><div class=\"sk-container\" hidden><div class=\"sk-item sk-dashed-wrapped\"><div class=\"sk-label-container\"><div class=\"sk-label sk-toggleable\"><input class=\"sk-toggleable__control sk-hidden--visually\" id=\"sk-estimator-id-1\" type=\"checkbox\" ><label for=\"sk-estimator-id-1\" class=\"sk-toggleable__label sk-toggleable__label-arrow\">GridSearchCV</label><div class=\"sk-toggleable__content\"><pre>GridSearchCV(cv=5,\n",
       "             estimator=Pipeline(steps=[(&#x27;cvec&#x27;,\n",
       "                                        CountVectorizer(stop_words=&#x27;english&#x27;)),\n",
       "                                       (&#x27;nb&#x27;, MultinomialNB())]),\n",
       "             param_grid={&#x27;cvec__max_df&#x27;: [0.25, 0.5, 0.75],\n",
       "                         &#x27;cvec__max_features&#x27;: [1000, 3000, 5000],\n",
       "                         &#x27;cvec__min_df&#x27;: [2, 3],\n",
       "                         &#x27;cvec__ngram_range&#x27;: [(1, 1), (1, 2), (1, 3)]})</pre></div></div></div><div class=\"sk-parallel\"><div class=\"sk-parallel-item\"><div class=\"sk-item\"><div class=\"sk-label-container\"><div class=\"sk-label sk-toggleable\"><input class=\"sk-toggleable__control sk-hidden--visually\" id=\"sk-estimator-id-2\" type=\"checkbox\" ><label for=\"sk-estimator-id-2\" class=\"sk-toggleable__label sk-toggleable__label-arrow\">estimator: Pipeline</label><div class=\"sk-toggleable__content\"><pre>Pipeline(steps=[(&#x27;cvec&#x27;, CountVectorizer(stop_words=&#x27;english&#x27;)),\n",
       "                (&#x27;nb&#x27;, MultinomialNB())])</pre></div></div></div><div class=\"sk-serial\"><div class=\"sk-item\"><div class=\"sk-serial\"><div class=\"sk-item\"><div class=\"sk-estimator sk-toggleable\"><input class=\"sk-toggleable__control sk-hidden--visually\" id=\"sk-estimator-id-3\" type=\"checkbox\" ><label for=\"sk-estimator-id-3\" class=\"sk-toggleable__label sk-toggleable__label-arrow\">CountVectorizer</label><div class=\"sk-toggleable__content\"><pre>CountVectorizer(stop_words=&#x27;english&#x27;)</pre></div></div></div><div class=\"sk-item\"><div class=\"sk-estimator sk-toggleable\"><input class=\"sk-toggleable__control sk-hidden--visually\" id=\"sk-estimator-id-4\" type=\"checkbox\" ><label for=\"sk-estimator-id-4\" class=\"sk-toggleable__label sk-toggleable__label-arrow\">MultinomialNB</label><div class=\"sk-toggleable__content\"><pre>MultinomialNB()</pre></div></div></div></div></div></div></div></div></div></div></div></div>"
      ],
      "text/plain": [
       "GridSearchCV(cv=5,\n",
       "             estimator=Pipeline(steps=[('cvec',\n",
       "                                        CountVectorizer(stop_words='english')),\n",
       "                                       ('nb', MultinomialNB())]),\n",
       "             param_grid={'cvec__max_df': [0.25, 0.5, 0.75],\n",
       "                         'cvec__max_features': [1000, 3000, 5000],\n",
       "                         'cvec__min_df': [2, 3],\n",
       "                         'cvec__ngram_range': [(1, 1), (1, 2), (1, 3)]})"
      ]
     },
     "execution_count": 21,
     "metadata": {},
     "output_type": "execute_result"
    }
   ],
   "source": [
    "# Redefine training and testing sets.\n",
    "X_train, X_test, y_train, y_test = train_test_split(X,\n",
    "                                                    y,\n",
    "                                                    test_size=0.33,\n",
    "                                                    stratify=y,\n",
    "                                                    random_state=42)\n",
    "\n",
    "# Pipeline with 2 stages\n",
    "# 1. CountVectorizer (transformer)\n",
    "# 2. Multinomial Naive Bayes (estimator)\n",
    "\n",
    "pipe = Pipeline([\n",
    "    ('cvec', CountVectorizer(stop_words='english')),\n",
    "    ('nb', MultinomialNB())\n",
    "])\n",
    "\n",
    "pipe_params = {\n",
    "    'cvec__max_features': [1_000, 3_000, 5_000],\n",
    "    'cvec__min_df': [2, 3],\n",
    "    'cvec__max_df': [0.25,0.5,0.75],\n",
    "    'cvec__ngram_range': [(1,1),(1,2),(1,3)]\n",
    "}\n",
    "\n",
    "\n",
    "# Instantiate GridSearchCV.\n",
    "\n",
    "gs = GridSearchCV(pipe,\n",
    "                  param_grid=pipe_params,\n",
    "                  cv=5)\n",
    "\n",
    "\n",
    "# Fit GridSearch to training data.\n",
    "gs.fit(X_train, y_train)"
   ]
  },
  {
   "cell_type": "code",
   "execution_count": 22,
   "id": "f6c8b8bb-c310-4a64-96a6-0e22cf096c93",
   "metadata": {},
   "outputs": [
    {
     "name": "stdout",
     "output_type": "stream",
     "text": [
      "[('cvec', CountVectorizer(max_df=0.5, max_features=5000, min_df=2, ngram_range=(1, 3),\n",
      "                stop_words='english')), ('nb', MultinomialNB())]\n"
     ]
    }
   ],
   "source": [
    "print(gs.best_estimator_.steps)"
   ]
  },
  {
   "cell_type": "code",
   "execution_count": 23,
   "id": "87e086bc-a79f-481f-8a74-dbf199ffbea6",
   "metadata": {},
   "outputs": [
    {
     "name": "stdout",
     "output_type": "stream",
     "text": [
      "0.9380240961421171\n"
     ]
    }
   ],
   "source": [
    "# What's the best score?\n",
    "print(gs.best_score_)"
   ]
  },
  {
   "cell_type": "code",
   "execution_count": 24,
   "id": "15a1f562-0990-48b8-8f9d-08791e5bf1c7",
   "metadata": {},
   "outputs": [
    {
     "data": {
      "text/plain": [
       "0.9540759574129986"
      ]
     },
     "execution_count": 24,
     "metadata": {},
     "output_type": "execute_result"
    }
   ],
   "source": [
    "# Score model on training set.\n",
    "gs.score(X_train, y_train)"
   ]
  },
  {
   "cell_type": "code",
   "execution_count": 25,
   "id": "6905b742-88b1-41e4-8c3b-bfff3085319a",
   "metadata": {},
   "outputs": [
    {
     "data": {
      "text/plain": [
       "0.9493548387096774"
      ]
     },
     "execution_count": 25,
     "metadata": {},
     "output_type": "execute_result"
    }
   ],
   "source": [
    "# Score model on testing set.\n",
    "gs.score(X_test, y_test)"
   ]
  },
  {
   "cell_type": "code",
   "execution_count": 26,
   "id": "438f50a8-b3ef-4aad-b6c5-94016936a5f3",
   "metadata": {},
   "outputs": [
    {
     "name": "stdout",
     "output_type": "stream",
     "text": [
      "TPR/Recall/Sensitivity: 0.9426915647134578\n",
      "Accuracy: 0.9493548387096774\n"
     ]
    }
   ],
   "source": [
    "# Get predictions\n",
    "preds = gs.predict(X_test)\n",
    "\n",
    "# Save confusion matrix values\n",
    "tn, fp, fn, tp = confusion_matrix(y_test, preds).ravel()\n",
    "\n",
    "# Calculate the score\n",
    "score = tp / (tp+fn)\n",
    "acc = (tp+tn)/(tp+tn+fp+fn)\n",
    "print('TPR/Recall/Sensitivity:', score)\n",
    "print('Accuracy:', acc)"
   ]
  },
  {
   "cell_type": "code",
   "execution_count": 26,
   "id": "5f1430cd-ea87-436f-9b79-b8b54b7898ec",
   "metadata": {},
   "outputs": [
    {
     "data": {
      "image/png": "[encoded data removed]",
      "text/plain": [
       "<Figure size 640x480 with 2 Axes>"
      ]
     },
     "metadata": {},
     "output_type": "display_data"
    }
   ],
   "source": [
    "# View confusion matrix\n",
    "plot_confusion_matrix(gs, X_test, y_test, cmap='Blues', values_format='d');"
   ]
  },
  {
   "cell_type": "code",
   "execution_count": 27,
   "id": "4980fb2f-2132-44d9-a49c-8867744feec2",
   "metadata": {},
   "outputs": [
    {
     "data": {
      "text/html": [
       "<div>\n",
       "<style scoped>\n",
       "    .dataframe tbody tr th:only-of-type {\n",
       "        vertical-align: middle;\n",
       "    }\n",
       "\n",
       "    .dataframe tbody tr th {\n",
       "        vertical-align: top;\n",
       "    }\n",
       "\n",
       "    .dataframe thead th {\n",
       "        text-align: right;\n",
       "    }\n",
       "</style>\n",
       "<table border=\"1\" class=\"dataframe\">\n",
       "  <thead>\n",
       "    <tr style=\"text-align: right;\">\n",
       "      <th></th>\n",
       "      <th>model</th>\n",
       "      <th>vectoriser</th>\n",
       "      <th>hyperparameters</th>\n",
       "      <th>recall/sensitivity</th>\n",
       "      <th>accuracy</th>\n",
       "    </tr>\n",
       "  </thead>\n",
       "  <tbody>\n",
       "    <tr>\n",
       "      <th>0</th>\n",
       "      <td>baseline</td>\n",
       "      <td>N/A</td>\n",
       "      <td>N/A</td>\n",
       "      <td>0.768430</td>\n",
       "      <td>0.809752</td>\n",
       "    </tr>\n",
       "    <tr>\n",
       "      <th>1</th>\n",
       "      <td>Naive Bayes</td>\n",
       "      <td>Count Vectoriser</td>\n",
       "      <td>[(cvec, CountVectorizer(max_df=0.5, max_features=5000, min_df=2, ngram_range=(1, 3),\\n                stop_words='english')), (nb, MultinomialNB())]</td>\n",
       "      <td>0.942692</td>\n",
       "      <td>0.949355</td>\n",
       "    </tr>\n",
       "  </tbody>\n",
       "</table>\n",
       "</div>"
      ],
      "text/plain": [
       "         model        vectoriser  \\\n",
       "0     baseline               N/A   \n",
       "1  Naive Bayes  Count Vectoriser   \n",
       "\n",
       "                                                                                                                                        hyperparameters  \\\n",
       "0                                                                                                                                                   N/A   \n",
       "1  [(cvec, CountVectorizer(max_df=0.5, max_features=5000, min_df=2, ngram_range=(1, 3),\\n                stop_words='english')), (nb, MultinomialNB())]   \n",
       "\n",
       "   recall/sensitivity  accuracy  \n",
       "0            0.768430  0.809752  \n",
       "1            0.942692  0.949355  "
      ]
     },
     "execution_count": 27,
     "metadata": {},
     "output_type": "execute_result"
    }
   ],
   "source": [
    "results = results.append({'model': 'Naive Bayes', \n",
    "                          'vectoriser': 'Count Vectoriser',\n",
    "                          'hyperparameters': gs.best_estimator_.steps,\n",
    "                          'recall/sensitivity': score,\n",
    "                          'accuracy': acc}, ignore_index=True)\n",
    "results"
   ]
  },
  {
   "cell_type": "markdown",
   "id": "c589afdb-a524-454e-971b-924e94e971cf",
   "metadata": {},
   "source": [
    "### 2b. Naive Bayes with TF-IDF Vectoriser\n",
    "Naive Bayes classifier is based on features being independent of one another. Here we use Multinomial Naive Bayes classifier for document classification, to see which comment belong to Aws or Azure category. The features used will be the frequency of the words present in the document transformed by the TF-IDF vectoriser via the pipeline. TF (Term Frequenct) and IDF (Inverse Document Frequency) method improves the following: <br>\n",
    "\n",
    "1. Same as Count Vectoriser, it takes into account of the frequency of words\n",
    "2. But it also consider words that less important and remove them from analysis\n",
    "3. Build less complex model by reducing the dimensions needed\n",
    "\n"
   ]
  },
  {
   "cell_type": "code",
   "execution_count": 28,
   "id": "4809b1f0-bee5-4605-8078-1f615fab59cf",
   "metadata": {},
   "outputs": [],
   "source": [
    "# Redefine training and testing sets.\n",
    "X_train, X_test, y_train, y_test = train_test_split(X,\n",
    "                                                    y,\n",
    "                                                    test_size=0.33,\n",
    "                                                    stratify=y,\n",
    "                                                    random_state=42)"
   ]
  },
  {
   "cell_type": "code",
   "execution_count": 29,
   "id": "7ca12691-4358-4529-85d8-5d7811199f95",
   "metadata": {},
   "outputs": [],
   "source": [
    "\n",
    "# Set up a pipeline with tf-idf vectorizer and multinomial naive bayes\n",
    "\n",
    "pipe_tvec = Pipeline([\n",
    "    ('tvec', TfidfVectorizer()),\n",
    "    ('nb', MultinomialNB())\n",
    "])"
   ]
  },
  {
   "cell_type": "code",
   "execution_count": 30,
   "id": "683e26ef-8c4f-4c72-b410-3cdefd408173",
   "metadata": {},
   "outputs": [],
   "source": [
    "# Search over the following values of hyperparameters:\n",
    "# Maximum number of features fit: 1000, 3000, 5000\n",
    "# No stop words and english stop words\n",
    "# Check (individual tokens) and also check (individual tokens and 2-grams).\n",
    "\n",
    "pipe_tvec_params = {\n",
    "    'tvec__max_features': [1_000, 3_000, 5_000],\n",
    "    'tvec__stop_words': ['english'],\n",
    "    'tvec__ngram_range': [(1,1),(1,2),(1,3)]\n",
    "}"
   ]
  },
  {
   "cell_type": "code",
   "execution_count": 31,
   "id": "f85e89b0-d4a9-407d-903a-da14c31079dc",
   "metadata": {},
   "outputs": [],
   "source": [
    "# Instantiate GridSearchCV.\n",
    "\n",
    "gs_tvec = GridSearchCV(pipe_tvec, # what object are we optimizing?\n",
    "                        param_grid = pipe_tvec_params, # what parameters values are we searching?\n",
    "                        cv=5) # 5-fold cross-validation."
   ]
  },
  {
   "cell_type": "code",
   "execution_count": 32,
   "id": "302d9c5c-30d0-4e7f-8eb1-0466fc1ff2e8",
   "metadata": {},
   "outputs": [
    {
     "data": {
      "text/html": [
       "<style>#sk-container-id-2 {color: black;background-color: white;}#sk-container-id-2 pre{padding: 0;}#sk-container-id-2 div.sk-toggleable {background-color: white;}#sk-container-id-2 label.sk-toggleable__label {cursor: pointer;display: block;width: 100%;margin-bottom: 0;padding: 0.3em;box-sizing: border-box;text-align: center;}#sk-container-id-2 label.sk-toggleable__label-arrow:before {content: \"▸\";float: left;margin-right: 0.25em;color: #696969;}#sk-container-id-2 label.sk-toggleable__label-arrow:hover:before {color: black;}#sk-container-id-2 div.sk-estimator:hover label.sk-toggleable__label-arrow:before {color: black;}#sk-container-id-2 div.sk-toggleable__content {max-height: 0;max-width: 0;overflow: hidden;text-align: left;background-color: #f0f8ff;}#sk-container-id-2 div.sk-toggleable__content pre {margin: 0.2em;color: black;border-radius: 0.25em;background-color: #f0f8ff;}#sk-container-id-2 input.sk-toggleable__control:checked~div.sk-toggleable__content {max-height: 200px;max-width: 100%;overflow: auto;}#sk-container-id-2 input.sk-toggleable__control:checked~label.sk-toggleable__label-arrow:before {content: \"▾\";}#sk-container-id-2 div.sk-estimator input.sk-toggleable__control:checked~label.sk-toggleable__label {background-color: #d4ebff;}#sk-container-id-2 div.sk-label input.sk-toggleable__control:checked~label.sk-toggleable__label {background-color: #d4ebff;}#sk-container-id-2 input.sk-hidden--visually {border: 0;clip: rect(1px 1px 1px 1px);clip: rect(1px, 1px, 1px, 1px);height: 1px;margin: -1px;overflow: hidden;padding: 0;position: absolute;width: 1px;}#sk-container-id-2 div.sk-estimator {font-family: monospace;background-color: #f0f8ff;border: 1px dotted black;border-radius: 0.25em;box-sizing: border-box;margin-bottom: 0.5em;}#sk-container-id-2 div.sk-estimator:hover {background-color: #d4ebff;}#sk-container-id-2 div.sk-parallel-item::after {content: \"\";width: 100%;border-bottom: 1px solid gray;flex-grow: 1;}#sk-container-id-2 div.sk-label:hover label.sk-toggleable__label {background-color: #d4ebff;}#sk-container-id-2 div.sk-serial::before {content: \"\";position: absolute;border-left: 1px solid gray;box-sizing: border-box;top: 0;bottom: 0;left: 50%;z-index: 0;}#sk-container-id-2 div.sk-serial {display: flex;flex-direction: column;align-items: center;background-color: white;padding-right: 0.2em;padding-left: 0.2em;position: relative;}#sk-container-id-2 div.sk-item {position: relative;z-index: 1;}#sk-container-id-2 div.sk-parallel {display: flex;align-items: stretch;justify-content: center;background-color: white;position: relative;}#sk-container-id-2 div.sk-item::before, #sk-container-id-2 div.sk-parallel-item::before {content: \"\";position: absolute;border-left: 1px solid gray;box-sizing: border-box;top: 0;bottom: 0;left: 50%;z-index: -1;}#sk-container-id-2 div.sk-parallel-item {display: flex;flex-direction: column;z-index: 1;position: relative;background-color: white;}#sk-container-id-2 div.sk-parallel-item:first-child::after {align-self: flex-end;width: 50%;}#sk-container-id-2 div.sk-parallel-item:last-child::after {align-self: flex-start;width: 50%;}#sk-container-id-2 div.sk-parallel-item:only-child::after {width: 0;}#sk-container-id-2 div.sk-dashed-wrapped {border: 1px dashed gray;margin: 0 0.4em 0.5em 0.4em;box-sizing: border-box;padding-bottom: 0.4em;background-color: white;}#sk-container-id-2 div.sk-label label {font-family: monospace;font-weight: bold;display: inline-block;line-height: 1.2em;}#sk-container-id-2 div.sk-label-container {text-align: center;}#sk-container-id-2 div.sk-container {/* jupyter's `normalize.less` sets `[hidden] { display: none; }` but bootstrap.min.css set `[hidden] { display: none !important; }` so we also need the `!important` here to be able to override the default hidden behavior on the sphinx rendered scikit-learn.org. See: https://github.com/scikit-learn/scikit-learn/issues/21755 */display: inline-block !important;position: relative;}#sk-container-id-2 div.sk-text-repr-fallback {display: none;}</style><div id=\"sk-container-id-2\" class=\"sk-top-container\"><div class=\"sk-text-repr-fallback\"><pre>GridSearchCV(cv=5,\n",
       "             estimator=Pipeline(steps=[(&#x27;tvec&#x27;, TfidfVectorizer()),\n",
       "                                       (&#x27;nb&#x27;, MultinomialNB())]),\n",
       "             param_grid={&#x27;tvec__max_features&#x27;: [1000, 3000, 5000],\n",
       "                         &#x27;tvec__ngram_range&#x27;: [(1, 1), (1, 2), (1, 3)],\n",
       "                         &#x27;tvec__stop_words&#x27;: [&#x27;english&#x27;]})</pre><b>In a Jupyter environment, please rerun this cell to show the HTML representation or trust the notebook. <br />On GitHub, the HTML representation is unable to render, please try loading this page with nbviewer.org.</b></div><div class=\"sk-container\" hidden><div class=\"sk-item sk-dashed-wrapped\"><div class=\"sk-label-container\"><div class=\"sk-label sk-toggleable\"><input class=\"sk-toggleable__control sk-hidden--visually\" id=\"sk-estimator-id-5\" type=\"checkbox\" ><label for=\"sk-estimator-id-5\" class=\"sk-toggleable__label sk-toggleable__label-arrow\">GridSearchCV</label><div class=\"sk-toggleable__content\"><pre>GridSearchCV(cv=5,\n",
       "             estimator=Pipeline(steps=[(&#x27;tvec&#x27;, TfidfVectorizer()),\n",
       "                                       (&#x27;nb&#x27;, MultinomialNB())]),\n",
       "             param_grid={&#x27;tvec__max_features&#x27;: [1000, 3000, 5000],\n",
       "                         &#x27;tvec__ngram_range&#x27;: [(1, 1), (1, 2), (1, 3)],\n",
       "                         &#x27;tvec__stop_words&#x27;: [&#x27;english&#x27;]})</pre></div></div></div><div class=\"sk-parallel\"><div class=\"sk-parallel-item\"><div class=\"sk-item\"><div class=\"sk-label-container\"><div class=\"sk-label sk-toggleable\"><input class=\"sk-toggleable__control sk-hidden--visually\" id=\"sk-estimator-id-6\" type=\"checkbox\" ><label for=\"sk-estimator-id-6\" class=\"sk-toggleable__label sk-toggleable__label-arrow\">estimator: Pipeline</label><div class=\"sk-toggleable__content\"><pre>Pipeline(steps=[(&#x27;tvec&#x27;, TfidfVectorizer()), (&#x27;nb&#x27;, MultinomialNB())])</pre></div></div></div><div class=\"sk-serial\"><div class=\"sk-item\"><div class=\"sk-serial\"><div class=\"sk-item\"><div class=\"sk-estimator sk-toggleable\"><input class=\"sk-toggleable__control sk-hidden--visually\" id=\"sk-estimator-id-7\" type=\"checkbox\" ><label for=\"sk-estimator-id-7\" class=\"sk-toggleable__label sk-toggleable__label-arrow\">TfidfVectorizer</label><div class=\"sk-toggleable__content\"><pre>TfidfVectorizer()</pre></div></div></div><div class=\"sk-item\"><div class=\"sk-estimator sk-toggleable\"><input class=\"sk-toggleable__control sk-hidden--visually\" id=\"sk-estimator-id-8\" type=\"checkbox\" ><label for=\"sk-estimator-id-8\" class=\"sk-toggleable__label sk-toggleable__label-arrow\">MultinomialNB</label><div class=\"sk-toggleable__content\"><pre>MultinomialNB()</pre></div></div></div></div></div></div></div></div></div></div></div></div>"
      ],
      "text/plain": [
       "GridSearchCV(cv=5,\n",
       "             estimator=Pipeline(steps=[('tvec', TfidfVectorizer()),\n",
       "                                       ('nb', MultinomialNB())]),\n",
       "             param_grid={'tvec__max_features': [1000, 3000, 5000],\n",
       "                         'tvec__ngram_range': [(1, 1), (1, 2), (1, 3)],\n",
       "                         'tvec__stop_words': ['english']})"
      ]
     },
     "execution_count": 32,
     "metadata": {},
     "output_type": "execute_result"
    }
   ],
   "source": [
    "# Fit GridSearch to training data.\n",
    "gs_tvec.fit(X_train, y_train)"
   ]
  },
  {
   "cell_type": "code",
   "execution_count": 33,
   "id": "764bbce7-62de-495f-8c87-0ffab518b673",
   "metadata": {},
   "outputs": [
    {
     "name": "stdout",
     "output_type": "stream",
     "text": [
      "[('tvec', TfidfVectorizer(max_features=5000, ngram_range=(1, 2), stop_words='english')), ('nb', MultinomialNB())]\n"
     ]
    }
   ],
   "source": [
    "print(gs_tvec.best_estimator_.steps)"
   ]
  },
  {
   "cell_type": "code",
   "execution_count": 34,
   "id": "5af21d04-2ed9-4c26-ace2-56720426f523",
   "metadata": {},
   "outputs": [
    {
     "data": {
      "text/plain": [
       "0.9596376926744001"
      ]
     },
     "execution_count": 34,
     "metadata": {},
     "output_type": "execute_result"
    }
   ],
   "source": [
    "# Score model on training set.\n",
    "gs_tvec.score(X_train, y_train)"
   ]
  },
  {
   "cell_type": "code",
   "execution_count": 35,
   "id": "45dd9d10-0edb-4f5f-b55e-f467d51c7758",
   "metadata": {},
   "outputs": [
    {
     "data": {
      "text/plain": [
       "0.9393548387096774"
      ]
     },
     "execution_count": 35,
     "metadata": {},
     "output_type": "execute_result"
    }
   ],
   "source": [
    "# Score model on testing set.\n",
    "gs_tvec.score(X_test, y_test)"
   ]
  },
  {
   "cell_type": "code",
   "execution_count": 36,
   "id": "89a34139-1e5c-499f-a6cf-4e31355907df",
   "metadata": {},
   "outputs": [
    {
     "name": "stdout",
     "output_type": "stream",
     "text": [
      "TPR/Recall/Sensitivity: 0.9317450096587251\n",
      "Accuracy: 0.9393548387096774\n"
     ]
    }
   ],
   "source": [
    "# Get predictions\n",
    "preds_tvec = gs_tvec.predict(X_test)\n",
    "\n",
    "# Save confusion matrix values\n",
    "tn, fp, fn, tp = confusion_matrix(y_test, preds_tvec).ravel()\n",
    "\n",
    "# Calculate the score\n",
    "score = tp / (tp+fn)\n",
    "acc = (tp+tn)/(tp+tn+fp+fn)\n",
    "print('TPR/Recall/Sensitivity:', score)\n",
    "print('Accuracy:', acc)"
   ]
  },
  {
   "cell_type": "code",
   "execution_count": 37,
   "id": "18e9f4e9-a368-4666-bf09-124c7930c114",
   "metadata": {},
   "outputs": [
    {
     "data": {
      "image/png": "[encoded data removed]",
      "text/plain": [
       "<Figure size 640x480 with 2 Axes>"
      ]
     },
     "metadata": {},
     "output_type": "display_data"
    }
   ],
   "source": [
    "plot_confusion_matrix(gs_tvec, X_test, y_test, cmap='Blues', values_format='d');"
   ]
  },
  {
   "cell_type": "code",
   "execution_count": 38,
   "id": "d5668da2-cf73-4562-93ae-a0177dcf8ec4",
   "metadata": {},
   "outputs": [
    {
     "data": {
      "text/html": [
       "<div>\n",
       "<style scoped>\n",
       "    .dataframe tbody tr th:only-of-type {\n",
       "        vertical-align: middle;\n",
       "    }\n",
       "\n",
       "    .dataframe tbody tr th {\n",
       "        vertical-align: top;\n",
       "    }\n",
       "\n",
       "    .dataframe thead th {\n",
       "        text-align: right;\n",
       "    }\n",
       "</style>\n",
       "<table border=\"1\" class=\"dataframe\">\n",
       "  <thead>\n",
       "    <tr style=\"text-align: right;\">\n",
       "      <th></th>\n",
       "      <th>model</th>\n",
       "      <th>vectoriser</th>\n",
       "      <th>hyperparameters</th>\n",
       "      <th>recall/sensitivity</th>\n",
       "      <th>accuracy</th>\n",
       "    </tr>\n",
       "  </thead>\n",
       "  <tbody>\n",
       "    <tr>\n",
       "      <th>0</th>\n",
       "      <td>baseline</td>\n",
       "      <td>N/A</td>\n",
       "      <td>N/A</td>\n",
       "      <td>0.768430</td>\n",
       "      <td>0.809752</td>\n",
       "    </tr>\n",
       "    <tr>\n",
       "      <th>1</th>\n",
       "      <td>Naive Bayes</td>\n",
       "      <td>Count Vectoriser</td>\n",
       "      <td>[(cvec, CountVectorizer(max_df=0.5, max_features=5000, min_df=2, ngram_range=(1, 3),\\n                stop_words='english')), (nb, MultinomialNB())]</td>\n",
       "      <td>0.942692</td>\n",
       "      <td>0.949355</td>\n",
       "    </tr>\n",
       "    <tr>\n",
       "      <th>2</th>\n",
       "      <td>Naive Bayes</td>\n",
       "      <td>TF IDF Vectoriser</td>\n",
       "      <td>[(tvec, TfidfVectorizer(max_features=5000, ngram_range=(1, 2), stop_words='english')), (nb, MultinomialNB())]</td>\n",
       "      <td>0.931745</td>\n",
       "      <td>0.939355</td>\n",
       "    </tr>\n",
       "  </tbody>\n",
       "</table>\n",
       "</div>"
      ],
      "text/plain": [
       "         model         vectoriser  \\\n",
       "0     baseline                N/A   \n",
       "1  Naive Bayes   Count Vectoriser   \n",
       "2  Naive Bayes  TF IDF Vectoriser   \n",
       "\n",
       "                                                                                                                                        hyperparameters  \\\n",
       "0                                                                                                                                                   N/A   \n",
       "1  [(cvec, CountVectorizer(max_df=0.5, max_features=5000, min_df=2, ngram_range=(1, 3),\\n                stop_words='english')), (nb, MultinomialNB())]   \n",
       "2                                         [(tvec, TfidfVectorizer(max_features=5000, ngram_range=(1, 2), stop_words='english')), (nb, MultinomialNB())]   \n",
       "\n",
       "   recall/sensitivity  accuracy  \n",
       "0            0.768430  0.809752  \n",
       "1            0.942692  0.949355  \n",
       "2            0.931745  0.939355  "
      ]
     },
     "execution_count": 38,
     "metadata": {},
     "output_type": "execute_result"
    }
   ],
   "source": [
    "results = results.append({'model': 'Naive Bayes', \n",
    "                          'vectoriser': 'TF IDF Vectoriser',\n",
    "                          'hyperparameters': gs_tvec.best_estimator_.steps,\n",
    "                          'recall/sensitivity': score,\n",
    "                          'accuracy': acc}, ignore_index=True)\n",
    "results"
   ]
  },
  {
   "cell_type": "markdown",
   "id": "47cd5fec-8db0-4273-bf38-47062c934d22",
   "metadata": {},
   "source": [
    "### 3. Logistic Regression with TF-IDF Vectoriser\n",
    "\n",
    "Unlike linear regression which works with continuous data, logistic regression works well with binary classification, where the target in this case is either \"AWS\" or \"Azure\" classification. Generally the logistic model returns a value between 0 and 1 and value below 0.5 is rounded down to 0 and value above 0.5 is rounded up to 1.\n",
    "\n",
    "The logistic regression has multiple independent variables determined by text transformed by the TF-IDF vectoriser, where each feature will be assigned a coefficient.\n",
    "\n",
    "To reduce complexity and overfitting, regularisation such as l1 (lasso), l2 (ridge) or elasticnet can be used to \"penalise\" the coefficients of the features in the logtistic regression model. This ensures that the model generalize better on unseen data.\n"
   ]
  },
  {
   "cell_type": "code",
   "execution_count": 39,
   "id": "f80adad0-3a45-4802-956e-cc5d52598169",
   "metadata": {},
   "outputs": [
    {
     "data": {
      "text/html": [
       "<style>#sk-container-id-3 {color: black;background-color: white;}#sk-container-id-3 pre{padding: 0;}#sk-container-id-3 div.sk-toggleable {background-color: white;}#sk-container-id-3 label.sk-toggleable__label {cursor: pointer;display: block;width: 100%;margin-bottom: 0;padding: 0.3em;box-sizing: border-box;text-align: center;}#sk-container-id-3 label.sk-toggleable__label-arrow:before {content: \"▸\";float: left;margin-right: 0.25em;color: #696969;}#sk-container-id-3 label.sk-toggleable__label-arrow:hover:before {color: black;}#sk-container-id-3 div.sk-estimator:hover label.sk-toggleable__label-arrow:before {color: black;}#sk-container-id-3 div.sk-toggleable__content {max-height: 0;max-width: 0;overflow: hidden;text-align: left;background-color: #f0f8ff;}#sk-container-id-3 div.sk-toggleable__content pre {margin: 0.2em;color: black;border-radius: 0.25em;background-color: #f0f8ff;}#sk-container-id-3 input.sk-toggleable__control:checked~div.sk-toggleable__content {max-height: 200px;max-width: 100%;overflow: auto;}#sk-container-id-3 input.sk-toggleable__control:checked~label.sk-toggleable__label-arrow:before {content: \"▾\";}#sk-container-id-3 div.sk-estimator input.sk-toggleable__control:checked~label.sk-toggleable__label {background-color: #d4ebff;}#sk-container-id-3 div.sk-label input.sk-toggleable__control:checked~label.sk-toggleable__label {background-color: #d4ebff;}#sk-container-id-3 input.sk-hidden--visually {border: 0;clip: rect(1px 1px 1px 1px);clip: rect(1px, 1px, 1px, 1px);height: 1px;margin: -1px;overflow: hidden;padding: 0;position: absolute;width: 1px;}#sk-container-id-3 div.sk-estimator {font-family: monospace;background-color: #f0f8ff;border: 1px dotted black;border-radius: 0.25em;box-sizing: border-box;margin-bottom: 0.5em;}#sk-container-id-3 div.sk-estimator:hover {background-color: #d4ebff;}#sk-container-id-3 div.sk-parallel-item::after {content: \"\";width: 100%;border-bottom: 1px solid gray;flex-grow: 1;}#sk-container-id-3 div.sk-label:hover label.sk-toggleable__label {background-color: #d4ebff;}#sk-container-id-3 div.sk-serial::before {content: \"\";position: absolute;border-left: 1px solid gray;box-sizing: border-box;top: 0;bottom: 0;left: 50%;z-index: 0;}#sk-container-id-3 div.sk-serial {display: flex;flex-direction: column;align-items: center;background-color: white;padding-right: 0.2em;padding-left: 0.2em;position: relative;}#sk-container-id-3 div.sk-item {position: relative;z-index: 1;}#sk-container-id-3 div.sk-parallel {display: flex;align-items: stretch;justify-content: center;background-color: white;position: relative;}#sk-container-id-3 div.sk-item::before, #sk-container-id-3 div.sk-parallel-item::before {content: \"\";position: absolute;border-left: 1px solid gray;box-sizing: border-box;top: 0;bottom: 0;left: 50%;z-index: -1;}#sk-container-id-3 div.sk-parallel-item {display: flex;flex-direction: column;z-index: 1;position: relative;background-color: white;}#sk-container-id-3 div.sk-parallel-item:first-child::after {align-self: flex-end;width: 50%;}#sk-container-id-3 div.sk-parallel-item:last-child::after {align-self: flex-start;width: 50%;}#sk-container-id-3 div.sk-parallel-item:only-child::after {width: 0;}#sk-container-id-3 div.sk-dashed-wrapped {border: 1px dashed gray;margin: 0 0.4em 0.5em 0.4em;box-sizing: border-box;padding-bottom: 0.4em;background-color: white;}#sk-container-id-3 div.sk-label label {font-family: monospace;font-weight: bold;display: inline-block;line-height: 1.2em;}#sk-container-id-3 div.sk-label-container {text-align: center;}#sk-container-id-3 div.sk-container {/* jupyter's `normalize.less` sets `[hidden] { display: none; }` but bootstrap.min.css set `[hidden] { display: none !important; }` so we also need the `!important` here to be able to override the default hidden behavior on the sphinx rendered scikit-learn.org. See: https://github.com/scikit-learn/scikit-learn/issues/21755 */display: inline-block !important;position: relative;}#sk-container-id-3 div.sk-text-repr-fallback {display: none;}</style><div id=\"sk-container-id-3\" class=\"sk-top-container\"><div class=\"sk-text-repr-fallback\"><pre>GridSearchCV(cv=5,\n",
       "             estimator=Pipeline(steps=[(&#x27;tvec&#x27;, TfidfVectorizer()),\n",
       "                                       (&#x27;lr&#x27;,\n",
       "                                        LogisticRegression(max_iter=500,\n",
       "                                                           random_state=42))]),\n",
       "             param_grid={&#x27;lr__penalty&#x27;: [&#x27;none&#x27;, &#x27;l2&#x27;],\n",
       "                         &#x27;tvec__max_features&#x27;: [1000, 3000, 5000],\n",
       "                         &#x27;tvec__ngram_range&#x27;: [(1, 1), (1, 2), (1, 3)],\n",
       "                         &#x27;tvec__stop_words&#x27;: [&#x27;english&#x27;]},\n",
       "             scoring=&#x27;accuracy&#x27;)</pre><b>In a Jupyter environment, please rerun this cell to show the HTML representation or trust the notebook. <br />On GitHub, the HTML representation is unable to render, please try loading this page with nbviewer.org.</b></div><div class=\"sk-container\" hidden><div class=\"sk-item sk-dashed-wrapped\"><div class=\"sk-label-container\"><div class=\"sk-label sk-toggleable\"><input class=\"sk-toggleable__control sk-hidden--visually\" id=\"sk-estimator-id-9\" type=\"checkbox\" ><label for=\"sk-estimator-id-9\" class=\"sk-toggleable__label sk-toggleable__label-arrow\">GridSearchCV</label><div class=\"sk-toggleable__content\"><pre>GridSearchCV(cv=5,\n",
       "             estimator=Pipeline(steps=[(&#x27;tvec&#x27;, TfidfVectorizer()),\n",
       "                                       (&#x27;lr&#x27;,\n",
       "                                        LogisticRegression(max_iter=500,\n",
       "                                                           random_state=42))]),\n",
       "             param_grid={&#x27;lr__penalty&#x27;: [&#x27;none&#x27;, &#x27;l2&#x27;],\n",
       "                         &#x27;tvec__max_features&#x27;: [1000, 3000, 5000],\n",
       "                         &#x27;tvec__ngram_range&#x27;: [(1, 1), (1, 2), (1, 3)],\n",
       "                         &#x27;tvec__stop_words&#x27;: [&#x27;english&#x27;]},\n",
       "             scoring=&#x27;accuracy&#x27;)</pre></div></div></div><div class=\"sk-parallel\"><div class=\"sk-parallel-item\"><div class=\"sk-item\"><div class=\"sk-label-container\"><div class=\"sk-label sk-toggleable\"><input class=\"sk-toggleable__control sk-hidden--visually\" id=\"sk-estimator-id-10\" type=\"checkbox\" ><label for=\"sk-estimator-id-10\" class=\"sk-toggleable__label sk-toggleable__label-arrow\">estimator: Pipeline</label><div class=\"sk-toggleable__content\"><pre>Pipeline(steps=[(&#x27;tvec&#x27;, TfidfVectorizer()),\n",
       "                (&#x27;lr&#x27;, LogisticRegression(max_iter=500, random_state=42))])</pre></div></div></div><div class=\"sk-serial\"><div class=\"sk-item\"><div class=\"sk-serial\"><div class=\"sk-item\"><div class=\"sk-estimator sk-toggleable\"><input class=\"sk-toggleable__control sk-hidden--visually\" id=\"sk-estimator-id-11\" type=\"checkbox\" ><label for=\"sk-estimator-id-11\" class=\"sk-toggleable__label sk-toggleable__label-arrow\">TfidfVectorizer</label><div class=\"sk-toggleable__content\"><pre>TfidfVectorizer()</pre></div></div></div><div class=\"sk-item\"><div class=\"sk-estimator sk-toggleable\"><input class=\"sk-toggleable__control sk-hidden--visually\" id=\"sk-estimator-id-12\" type=\"checkbox\" ><label for=\"sk-estimator-id-12\" class=\"sk-toggleable__label sk-toggleable__label-arrow\">LogisticRegression</label><div class=\"sk-toggleable__content\"><pre>LogisticRegression(max_iter=500, random_state=42)</pre></div></div></div></div></div></div></div></div></div></div></div></div>"
      ],
      "text/plain": [
       "GridSearchCV(cv=5,\n",
       "             estimator=Pipeline(steps=[('tvec', TfidfVectorizer()),\n",
       "                                       ('lr',\n",
       "                                        LogisticRegression(max_iter=500,\n",
       "                                                           random_state=42))]),\n",
       "             param_grid={'lr__penalty': ['none', 'l2'],\n",
       "                         'tvec__max_features': [1000, 3000, 5000],\n",
       "                         'tvec__ngram_range': [(1, 1), (1, 2), (1, 3)],\n",
       "                         'tvec__stop_words': ['english']},\n",
       "             scoring='accuracy')"
      ]
     },
     "execution_count": 39,
     "metadata": {},
     "output_type": "execute_result"
    }
   ],
   "source": [
    "X_train, X_test, y_train, y_test = train_test_split(X,\n",
    "                                                    y,\n",
    "                                                    test_size=0.33,\n",
    "                                                    stratify=y,\n",
    "                                                    random_state=42)\n",
    "\n",
    "pipe_lr = Pipeline([\n",
    "    ('tvec', TfidfVectorizer()),\n",
    "    ('lr', LogisticRegression(max_iter=500, random_state=42))\n",
    "])\n",
    "\n",
    "params_lr = {\n",
    "    'tvec__max_features': [1_000, 3_000, 5_000],\n",
    "    'tvec__stop_words': ['english'],\n",
    "    'tvec__ngram_range': [(1,1),(1,2),(1,3)],\n",
    "    \"lr__penalty\": ['none','l2']\n",
    "}\n",
    "\n",
    "gs_lr = GridSearchCV(pipe_lr, param_grid=params_lr, scoring='accuracy', verbose=0, cv=5)\n",
    "gs_lr.fit(X_train, y_train)"
   ]
  },
  {
   "cell_type": "code",
   "execution_count": 40,
   "id": "187f6998-39fa-4b54-88a2-e34237c0af47",
   "metadata": {},
   "outputs": [
    {
     "name": "stdout",
     "output_type": "stream",
     "text": [
      "[('tvec', TfidfVectorizer(max_features=5000, ngram_range=(1, 3), stop_words='english')), ('lr', LogisticRegression(max_iter=500, random_state=42))]\n"
     ]
    }
   ],
   "source": [
    "print(gs_lr.best_estimator_.steps)"
   ]
  },
  {
   "cell_type": "code",
   "execution_count": 41,
   "id": "ad96ff56-3855-4db4-8673-e43ac752e0cb",
   "metadata": {},
   "outputs": [
    {
     "data": {
      "text/plain": [
       "0.9779119656761481"
      ]
     },
     "execution_count": 41,
     "metadata": {},
     "output_type": "execute_result"
    }
   ],
   "source": [
    "gs_lr.score(X_train, y_train)"
   ]
  },
  {
   "cell_type": "code",
   "execution_count": 42,
   "id": "02ef6fe9-b90f-4bd8-8cce-f52a0de5b4ae",
   "metadata": {},
   "outputs": [
    {
     "data": {
      "text/plain": [
       "0.9570967741935484"
      ]
     },
     "execution_count": 42,
     "metadata": {},
     "output_type": "execute_result"
    }
   ],
   "source": [
    "gs_lr.score(X_test, y_test)"
   ]
  },
  {
   "cell_type": "code",
   "execution_count": 43,
   "id": "ffe2a2e3-0384-4d86-8c12-dab39cc022dc",
   "metadata": {},
   "outputs": [
    {
     "name": "stdout",
     "output_type": "stream",
     "text": [
      "TPR/Recall/Sensitivity: 0.9716677398583387\n",
      "Accuracy: 0.9570967741935484\n"
     ]
    }
   ],
   "source": [
    "# Get predictions\n",
    "preds_lr = gs_lr.predict(X_test)\n",
    "\n",
    "# Save confusion matrix values\n",
    "tn, fp, fn, tp = confusion_matrix(y_test, preds_lr).ravel()\n",
    "\n",
    "# Calculate the score\n",
    "score = tp / (tp+fn)\n",
    "acc = (tp+tn)/(tp+tn+fp+fn)\n",
    "print('TPR/Recall/Sensitivity:', score)\n",
    "print('Accuracy:', acc)"
   ]
  },
  {
   "cell_type": "code",
   "execution_count": 44,
   "id": "ab83de3d-6632-4ded-96ed-9cd7a3387bd3",
   "metadata": {},
   "outputs": [
    {
     "data": {
      "image/png": "[encoded data removed]",
      "text/plain": [
       "<Figure size 640x480 with 2 Axes>"
      ]
     },
     "metadata": {},
     "output_type": "display_data"
    }
   ],
   "source": [
    "plot_confusion_matrix(gs_lr, X_test, y_test, cmap='Blues', values_format='d');"
   ]
  },
  {
   "cell_type": "code",
   "execution_count": 45,
   "id": "c3184e08-8a7b-4f2e-9da0-16ef9bd800cf",
   "metadata": {},
   "outputs": [
    {
     "data": {
      "text/html": [
       "<div>\n",
       "<style scoped>\n",
       "    .dataframe tbody tr th:only-of-type {\n",
       "        vertical-align: middle;\n",
       "    }\n",
       "\n",
       "    .dataframe tbody tr th {\n",
       "        vertical-align: top;\n",
       "    }\n",
       "\n",
       "    .dataframe thead th {\n",
       "        text-align: right;\n",
       "    }\n",
       "</style>\n",
       "<table border=\"1\" class=\"dataframe\">\n",
       "  <thead>\n",
       "    <tr style=\"text-align: right;\">\n",
       "      <th></th>\n",
       "      <th>model</th>\n",
       "      <th>vectoriser</th>\n",
       "      <th>hyperparameters</th>\n",
       "      <th>recall/sensitivity</th>\n",
       "      <th>accuracy</th>\n",
       "    </tr>\n",
       "  </thead>\n",
       "  <tbody>\n",
       "    <tr>\n",
       "      <th>0</th>\n",
       "      <td>baseline</td>\n",
       "      <td>N/A</td>\n",
       "      <td>N/A</td>\n",
       "      <td>0.768430</td>\n",
       "      <td>0.809752</td>\n",
       "    </tr>\n",
       "    <tr>\n",
       "      <th>1</th>\n",
       "      <td>Naive Bayes</td>\n",
       "      <td>Count Vectoriser</td>\n",
       "      <td>[(cvec, CountVectorizer(max_df=0.5, max_features=5000, min_df=2, ngram_range=(1, 3),\\n                stop_words='english')), (nb, MultinomialNB())]</td>\n",
       "      <td>0.942692</td>\n",
       "      <td>0.949355</td>\n",
       "    </tr>\n",
       "    <tr>\n",
       "      <th>2</th>\n",
       "      <td>Naive Bayes</td>\n",
       "      <td>TF IDF Vectoriser</td>\n",
       "      <td>[(tvec, TfidfVectorizer(max_features=5000, ngram_range=(1, 2), stop_words='english')), (nb, MultinomialNB())]</td>\n",
       "      <td>0.931745</td>\n",
       "      <td>0.939355</td>\n",
       "    </tr>\n",
       "    <tr>\n",
       "      <th>3</th>\n",
       "      <td>Logistic Regression</td>\n",
       "      <td>TF IDF Vectoriser</td>\n",
       "      <td>[(tvec, TfidfVectorizer(max_features=5000, ngram_range=(1, 3), stop_words='english')), (lr, LogisticRegression(max_iter=500, random_state=42))]</td>\n",
       "      <td>0.971668</td>\n",
       "      <td>0.957097</td>\n",
       "    </tr>\n",
       "  </tbody>\n",
       "</table>\n",
       "</div>"
      ],
      "text/plain": [
       "                 model         vectoriser  \\\n",
       "0             baseline                N/A   \n",
       "1          Naive Bayes   Count Vectoriser   \n",
       "2          Naive Bayes  TF IDF Vectoriser   \n",
       "3  Logistic Regression  TF IDF Vectoriser   \n",
       "\n",
       "                                                                                                                                        hyperparameters  \\\n",
       "0                                                                                                                                                   N/A   \n",
       "1  [(cvec, CountVectorizer(max_df=0.5, max_features=5000, min_df=2, ngram_range=(1, 3),\\n                stop_words='english')), (nb, MultinomialNB())]   \n",
       "2                                         [(tvec, TfidfVectorizer(max_features=5000, ngram_range=(1, 2), stop_words='english')), (nb, MultinomialNB())]   \n",
       "3       [(tvec, TfidfVectorizer(max_features=5000, ngram_range=(1, 3), stop_words='english')), (lr, LogisticRegression(max_iter=500, random_state=42))]   \n",
       "\n",
       "   recall/sensitivity  accuracy  \n",
       "0            0.768430  0.809752  \n",
       "1            0.942692  0.949355  \n",
       "2            0.931745  0.939355  \n",
       "3            0.971668  0.957097  "
      ]
     },
     "execution_count": 45,
     "metadata": {},
     "output_type": "execute_result"
    }
   ],
   "source": [
    "results = results.append({'model': 'Logistic Regression', \n",
    "                          'vectoriser': 'TF IDF Vectoriser',\n",
    "                          'hyperparameters': gs_lr.best_estimator_.steps,\n",
    "                          'recall/sensitivity': score,\n",
    "                          'accuracy': acc}, ignore_index=True)\n",
    "results"
   ]
  },
  {
   "cell_type": "markdown",
   "id": "20cbe819-73b0-4595-badd-0a8a1f0f8e16",
   "metadata": {
    "tags": []
   },
   "source": [
    "### 4. Random Forest with TF-IDF Vectoriser\n",
    "\n",
    "Decision trees start with asking a question on \"Does this event belong to AWS or Azure services?\" A random forest model is made up of multiple decision trees. \n",
    "* Each tree is trained from a sample subset of the data with replacement (bootstraping).\n",
    "* Each decision tree will be less correlated due to feature bagging.\n",
    "* Of each sample subset 2/3 is set aside for training: The predicted class will be the a majority vote based on the most frequent categorical variable.\n",
    "* Of each sample subset 1/3 is set aside for cross validation\n",
    "\n",
    "Advantages of random forests:\n",
    "* Reduced overfitting risk due to averaging of multiple decisions trees with uncorrelated features, which lowers the variance. Unlike a single decision tree which is prone to tightly fitting the dataset.\n",
    "* Can fit both regression and classification tasks\n",
    "\n",
    "Disadvantages of random forests:\n",
    "* A single decision tree is very much interpretable, but a random trees model comprises of many decision trees and it becomes very complicated to interpret the model.\n"
   ]
  },
  {
   "cell_type": "code",
   "execution_count": 46,
   "id": "b01ecb60-3844-4a4e-b522-d501d1a4171a",
   "metadata": {},
   "outputs": [
    {
     "name": "stdout",
     "output_type": "stream",
     "text": [
      "0.9397750504791574\n"
     ]
    },
    {
     "data": {
      "text/plain": [
       "{'rf__max_depth': None,\n",
       " 'rf__n_estimators': 300,\n",
       " 'tvec__max_features': 3000,\n",
       " 'tvec__ngram_range': (1, 3),\n",
       " 'tvec__stop_words': 'english'}"
      ]
     },
     "execution_count": 46,
     "metadata": {},
     "output_type": "execute_result"
    }
   ],
   "source": [
    "from sklearn.ensemble import RandomForestClassifier\n",
    "from sklearn.model_selection import cross_val_score\n",
    "\n",
    "X_train, X_test, y_train, y_test = train_test_split(X,\n",
    "                                                    y,\n",
    "                                                    test_size=0.33,\n",
    "                                                    stratify=y,\n",
    "                                                    random_state=42)\n",
    "\n",
    "pipe_rf = Pipeline([\n",
    "    ('tvec', TfidfVectorizer()),\n",
    "    ('rf' , RandomForestClassifier())])\n",
    "\n",
    "rf_params = {\n",
    "    'tvec__max_features': [1_000,3_000,5_000],\n",
    "    'tvec__stop_words': ['english'],\n",
    "    'tvec__ngram_range': [(1,1),(1,2),(1,3)],\n",
    "    'rf__n_estimators': [100,200,300],\n",
    "    'rf__max_depth': [None, 1, 2, 3],\n",
    "}\n",
    "\n",
    "gs_rf = GridSearchCV(pipe_rf,param_grid=rf_params, cv=5,n_jobs=-1)\n",
    "gs_rf.fit(X_train, y_train)\n",
    "print(gs_rf.best_score_)\n",
    "gs_rf.best_params_"
   ]
  },
  {
   "cell_type": "code",
   "execution_count": 47,
   "id": "669b585f-b852-4fa3-8ae6-b8cbe19d30e0",
   "metadata": {},
   "outputs": [
    {
     "name": "stdout",
     "output_type": "stream",
     "text": [
      "TPR/Recall/Sensitivity: 0.952994204764971\n",
      "Accuracy: 0.9509677419354838\n"
     ]
    }
   ],
   "source": [
    "# Get predictions\n",
    "preds_rf = gs_rf.predict(X_test)\n",
    "\n",
    "# Save confusion matrix values\n",
    "tn, fp, fn, tp = confusion_matrix(y_test, preds_rf).ravel()\n",
    "\n",
    "# Calculate the score\n",
    "score = tp / (tp+fn)\n",
    "acc = (tp+tn)/(tp+tn+fp+fn)\n",
    "print('TPR/Recall/Sensitivity:', score)\n",
    "print('Accuracy:', acc)"
   ]
  },
  {
   "cell_type": "code",
   "execution_count": 49,
   "id": "49005413-50c5-4818-a67a-fb27e95309d4",
   "metadata": {},
   "outputs": [
    {
     "data": {
      "image/png": "[encoded data removed]",
      "text/plain": [
       "<Figure size 640x480 with 2 Axes>"
      ]
     },
     "metadata": {},
     "output_type": "display_data"
    }
   ],
   "source": [
    "plot_confusion_matrix(gs_rf, X_test, y_test, cmap='Blues', values_format='d');"
   ]
  },
  {
   "cell_type": "code",
   "execution_count": 48,
   "id": "be0131e2-a45d-4d30-a699-76cefbbac896",
   "metadata": {},
   "outputs": [
    {
     "data": {
      "text/html": [
       "<div>\n",
       "<style scoped>\n",
       "    .dataframe tbody tr th:only-of-type {\n",
       "        vertical-align: middle;\n",
       "    }\n",
       "\n",
       "    .dataframe tbody tr th {\n",
       "        vertical-align: top;\n",
       "    }\n",
       "\n",
       "    .dataframe thead th {\n",
       "        text-align: right;\n",
       "    }\n",
       "</style>\n",
       "<table border=\"1\" class=\"dataframe\">\n",
       "  <thead>\n",
       "    <tr style=\"text-align: right;\">\n",
       "      <th></th>\n",
       "      <th>model</th>\n",
       "      <th>vectoriser</th>\n",
       "      <th>hyperparameters</th>\n",
       "      <th>recall/sensitivity</th>\n",
       "      <th>accuracy</th>\n",
       "    </tr>\n",
       "  </thead>\n",
       "  <tbody>\n",
       "    <tr>\n",
       "      <th>0</th>\n",
       "      <td>baseline</td>\n",
       "      <td>N/A</td>\n",
       "      <td>N/A</td>\n",
       "      <td>0.768430</td>\n",
       "      <td>0.809752</td>\n",
       "    </tr>\n",
       "    <tr>\n",
       "      <th>1</th>\n",
       "      <td>Naive Bayes</td>\n",
       "      <td>Count Vectoriser</td>\n",
       "      <td>[(cvec, CountVectorizer(max_df=0.5, max_features=5000, min_df=2, ngram_range=(1, 3),\\n                stop_words='english')), (nb, MultinomialNB())]</td>\n",
       "      <td>0.942692</td>\n",
       "      <td>0.949355</td>\n",
       "    </tr>\n",
       "    <tr>\n",
       "      <th>2</th>\n",
       "      <td>Naive Bayes</td>\n",
       "      <td>TF IDF Vectoriser</td>\n",
       "      <td>[(tvec, TfidfVectorizer(max_features=5000, ngram_range=(1, 2), stop_words='english')), (nb, MultinomialNB())]</td>\n",
       "      <td>0.931745</td>\n",
       "      <td>0.939355</td>\n",
       "    </tr>\n",
       "    <tr>\n",
       "      <th>3</th>\n",
       "      <td>Logistic Regression</td>\n",
       "      <td>TF IDF Vectoriser</td>\n",
       "      <td>[(tvec, TfidfVectorizer(max_features=5000, ngram_range=(1, 3), stop_words='english')), (lr, LogisticRegression(max_iter=500, random_state=42))]</td>\n",
       "      <td>0.971668</td>\n",
       "      <td>0.957097</td>\n",
       "    </tr>\n",
       "    <tr>\n",
       "      <th>4</th>\n",
       "      <td>Random Forest</td>\n",
       "      <td>TF IDF Vectoriser</td>\n",
       "      <td>{'rf__max_depth': None, 'rf__n_estimators': 300, 'tvec__max_features': 3000, 'tvec__ngram_range': (1, 3), 'tvec__stop_words': 'english'}</td>\n",
       "      <td>0.952994</td>\n",
       "      <td>0.950968</td>\n",
       "    </tr>\n",
       "  </tbody>\n",
       "</table>\n",
       "</div>"
      ],
      "text/plain": [
       "                 model         vectoriser  \\\n",
       "0             baseline                N/A   \n",
       "1          Naive Bayes   Count Vectoriser   \n",
       "2          Naive Bayes  TF IDF Vectoriser   \n",
       "3  Logistic Regression  TF IDF Vectoriser   \n",
       "4        Random Forest  TF IDF Vectoriser   \n",
       "\n",
       "                                                                                                                                        hyperparameters  \\\n",
       "0                                                                                                                                                   N/A   \n",
       "1  [(cvec, CountVectorizer(max_df=0.5, max_features=5000, min_df=2, ngram_range=(1, 3),\\n                stop_words='english')), (nb, MultinomialNB())]   \n",
       "2                                         [(tvec, TfidfVectorizer(max_features=5000, ngram_range=(1, 2), stop_words='english')), (nb, MultinomialNB())]   \n",
       "3       [(tvec, TfidfVectorizer(max_features=5000, ngram_range=(1, 3), stop_words='english')), (lr, LogisticRegression(max_iter=500, random_state=42))]   \n",
       "4              {'rf__max_depth': None, 'rf__n_estimators': 300, 'tvec__max_features': 3000, 'tvec__ngram_range': (1, 3), 'tvec__stop_words': 'english'}   \n",
       "\n",
       "   recall/sensitivity  accuracy  \n",
       "0            0.768430  0.809752  \n",
       "1            0.942692  0.949355  \n",
       "2            0.931745  0.939355  \n",
       "3            0.971668  0.957097  \n",
       "4            0.952994  0.950968  "
      ]
     },
     "execution_count": 48,
     "metadata": {},
     "output_type": "execute_result"
    }
   ],
   "source": [
    "results = results.append({'model': 'Random Forest', \n",
    "                          'vectoriser': 'TF IDF Vectoriser',\n",
    "                          'hyperparameters': gs_rf.best_params_, \n",
    "                          'recall/sensitivity': score,\n",
    "                          'accuracy': acc}, ignore_index=True)\n",
    "results"
   ]
  },
  {
   "cell_type": "markdown",
   "id": "cb1443ed-51b9-45d0-a075-018b16cc851d",
   "metadata": {},
   "source": [
    "### ROC-AUC curve\n",
    "\n",
    "AUC (Area Under The Curve) ROC (Receiver Operating Characteristics) is an important evaluation metric to check for classification model performance.\n",
    "* The ROC curve is plotted with TPR against the FPR\n",
    "* AUC is 0.99, near to the 1, indicating a good separability of 2 classes. Meaning the model have a good chance of distinguishing between 2 classes.\n",
    "\n",
    "Tying back to the problem statement, we need to classify events to be routed or triaged to AWS services support team. The model selected to be used will be based on highest tpr/recall/sensitivity - Logistic Regression model with TF-IDF"
   ]
  },
  {
   "cell_type": "code",
   "execution_count": 52,
   "id": "d0ea5766-e6a0-4c2f-a9f0-c43be9c89531",
   "metadata": {},
   "outputs": [
    {
     "data": {
      "image/png": "[encoded data removed]",
      "text/plain": [
       "<Figure size 640x480 with 1 Axes>"
      ]
     },
     "metadata": {},
     "output_type": "display_data"
    }
   ],
   "source": [
    "import scikitplot as skplt\n",
    "import matplotlib.pyplot as plt\n",
    "\n",
    "\n",
    "y_probas = gs_lr.predict_proba(X_test)\n",
    "\n",
    "skplt.metrics.plot_roc_curve(y_test, y_probas)\n",
    "plt.show()"
   ]
  },
  {
   "cell_type": "code",
   "execution_count": null,
   "id": "23968154-fa43-48d8-8d67-6baa6d216f65",
   "metadata": {},
   "outputs": [],
   "source": []
  }
 ],
 "metadata": {
  "kernelspec": {
   "display_name": "dsi-sg",
   "language": "python",
   "name": "dsi-sg"
  },
  "language_info": {
   "codemirror_mode": {
    "name": "ipython",
    "version": 3
   },
   "file_extension": ".py",
   "mimetype": "text/x-python",
   "name": "python",
   "nbconvert_exporter": "python",
   "pygments_lexer": "ipython3",
   "version": "3.9.13"
  }
 },
 "nbformat": 4,
 "nbformat_minor": 5
}
