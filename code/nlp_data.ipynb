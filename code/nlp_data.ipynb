{
 "cells": [
  {
   "cell_type": "markdown",
   "id": "a69f51aa-df3a-4414-b74f-c1783164c6ac",
   "metadata": {
    "tags": []
   },
   "source": [
    "### 1. Data Preparation\n",
    "* Imports\n",
    "* Scraping top 5000 subreddit posts from r/AWS and r/AZURE subreddits\n",
    "* Create a function to scrape data\n",
    "* Save data into a csv file"
   ]
  },
  {
   "cell_type": "markdown",
   "id": "0629afb1-5197-4a5f-84f6-1ea2a8383f87",
   "metadata": {},
   "source": [
    "### 1.1 Using pushshift.io"
   ]
  },
  {
   "cell_type": "code",
   "execution_count": 1,
   "id": "63e4a5fa-f3ef-4fcc-bed5-da2af9f9d0c3",
   "metadata": {
    "tags": []
   },
   "outputs": [],
   "source": [
    "import requests\n",
    "import pandas as pd\n",
    "from datetime import datetime\n",
    "import time"
   ]
  },
  {
   "cell_type": "code",
   "execution_count": 2,
   "id": "2188df0c-1cdf-463f-9fe3-3346f675ef33",
   "metadata": {},
   "outputs": [],
   "source": [
    "def get_posts(params, baseurl='https://api.pushshift.io/reddit/search/submission'):\n",
    "    res = requests.get(baseurl, params)\n",
    "    if res.status_code != 200:\n",
    "        return f'Error code: {res.status_code}'\n",
    "    else:\n",
    "        posts = res.json()['data']\n",
    "        df = pd.DataFrame(posts)\n",
    "        return df"
   ]
  },
  {
   "cell_type": "code",
   "execution_count": 26,
   "id": "d3108d38-808d-49b3-8f05-58127288421c",
   "metadata": {
    "scrolled": true,
    "tags": []
   },
   "outputs": [
    {
     "data": {
      "text/plain": [
       "(3998, 133)"
      ]
     },
     "execution_count": 26,
     "metadata": {},
     "output_type": "execute_result"
    }
   ],
   "source": [
    "\n",
    "def scrape_reddit(subreddit, iterations):\n",
    "    \"\"\"\n",
    "    Function to scrape subreddit in interations of 1000 posts\n",
    "    subreddit: name of subreddit e.g. \"aws\"\n",
    "    iterations: Number of times the API will be called e.g. 5 for 5000 posts\n",
    "    \"\"\"\n",
    "    params = {\n",
    "        'subreddit': subreddit, \n",
    "        'size': 1000\n",
    "    }\n",
    "\n",
    "    df = get_posts(params)\n",
    "    \n",
    "    for i in range(iterations-1):\n",
    "        params = {\n",
    "            'subreddit': subreddit, \n",
    "            'size': 1000, \n",
    "            'before': df.loc[(df.shape[0] - 1), 'created_utc'], \n",
    "        }\n",
    "        df_add = get_posts(params)\n",
    "        df = pd.concat([df, df_add], axis=0, ignore_index=True, sort=True)\n",
    "    return df\n",
    "\n",
    "df_aws = scrape_reddit('aws', 4)\n",
    "df_aws.shape"
   ]
  },
  {
   "cell_type": "code",
   "execution_count": 27,
   "id": "35a1d36a-6bfc-4b79-befc-50365cefcc41",
   "metadata": {},
   "outputs": [
    {
     "data": {
      "text/plain": [
       "(3998, 101)"
      ]
     },
     "execution_count": 27,
     "metadata": {},
     "output_type": "execute_result"
    }
   ],
   "source": [
    "df_az = scrape_reddit('azure', 4)\n",
    "df_az.shape"
   ]
  },
  {
   "cell_type": "code",
   "execution_count": 24,
   "id": "a54d4464-be88-4169-9747-fa2a45494a96",
   "metadata": {},
   "outputs": [
    {
     "data": {
      "text/html": [
       "<div>\n",
       "<style scoped>\n",
       "    .dataframe tbody tr th:only-of-type {\n",
       "        vertical-align: middle;\n",
       "    }\n",
       "\n",
       "    .dataframe tbody tr th {\n",
       "        vertical-align: top;\n",
       "    }\n",
       "\n",
       "    .dataframe thead th {\n",
       "        text-align: right;\n",
       "    }\n",
       "</style>\n",
       "<table border=\"1\" class=\"dataframe\">\n",
       "  <thead>\n",
       "    <tr style=\"text-align: right;\">\n",
       "      <th></th>\n",
       "      <th>subreddit</th>\n",
       "      <th>selftext</th>\n",
       "      <th>author</th>\n",
       "      <th>title</th>\n",
       "      <th>score</th>\n",
       "      <th>num_comments</th>\n",
       "      <th>utc_datetime_str</th>\n",
       "      <th>removed_by</th>\n",
       "    </tr>\n",
       "  </thead>\n",
       "  <tbody>\n",
       "    <tr>\n",
       "      <th>0</th>\n",
       "      <td>aws</td>\n",
       "      <td>[removed]</td>\n",
       "      <td>santamaps</td>\n",
       "      <td>Our Lambda / RDS app is a maintenance nightmar...</td>\n",
       "      <td>1</td>\n",
       "      <td>0</td>\n",
       "      <td>2023-03-17 13:38:29</td>\n",
       "      <td>None</td>\n",
       "    </tr>\n",
       "    <tr>\n",
       "      <th>1</th>\n",
       "      <td>aws</td>\n",
       "      <td>[removed]</td>\n",
       "      <td>YeNerdLifeChoseMe</td>\n",
       "      <td>Case Studies for actual high-availability in t...</td>\n",
       "      <td>1</td>\n",
       "      <td>0</td>\n",
       "      <td>2023-03-17 13:20:32</td>\n",
       "      <td>None</td>\n",
       "    </tr>\n",
       "    <tr>\n",
       "      <th>2</th>\n",
       "      <td>aws</td>\n",
       "      <td>I have a custom lambda authorizer to authorize...</td>\n",
       "      <td>redditor_tx</td>\n",
       "      <td>How to authenticate WebSocket connections</td>\n",
       "      <td>1</td>\n",
       "      <td>0</td>\n",
       "      <td>2023-03-17 13:19:21</td>\n",
       "      <td>None</td>\n",
       "    </tr>\n",
       "  </tbody>\n",
       "</table>\n",
       "</div>"
      ],
      "text/plain": [
       "  subreddit                                           selftext  \\\n",
       "0       aws                                          [removed]   \n",
       "1       aws                                          [removed]   \n",
       "2       aws  I have a custom lambda authorizer to authorize...   \n",
       "\n",
       "              author                                              title  \\\n",
       "0          santamaps  Our Lambda / RDS app is a maintenance nightmar...   \n",
       "1  YeNerdLifeChoseMe  Case Studies for actual high-availability in t...   \n",
       "2        redditor_tx          How to authenticate WebSocket connections   \n",
       "\n",
       "   score  num_comments     utc_datetime_str removed_by  \n",
       "0      1             0  2023-03-17 13:38:29       None  \n",
       "1      1             0  2023-03-17 13:20:32       None  \n",
       "2      1             0  2023-03-17 13:19:21       None  "
      ]
     },
     "execution_count": 24,
     "metadata": {},
     "output_type": "execute_result"
    }
   ],
   "source": [
    "selected_columns = ['subreddit','selftext', 'author', 'title', 'score','num_comments','utc_datetime_str','removed_by']\n",
    "df_aws[selected_columns].head(3)"
   ]
  },
  {
   "cell_type": "code",
   "execution_count": 30,
   "id": "52df4f6f-1853-4f1f-a4ee-59eb3b438897",
   "metadata": {},
   "outputs": [],
   "source": [
    "df_aws.to_csv('../data/aws_subreddit.csv', index=False)"
   ]
  },
  {
   "cell_type": "code",
   "execution_count": 32,
   "id": "7cf4dafd-2a77-4168-ae0d-7da387ecf7c0",
   "metadata": {},
   "outputs": [],
   "source": [
    "df_az.to_csv('../data/az_subreddit.csv', index=False)"
   ]
  },
  {
   "cell_type": "code",
   "execution_count": null,
   "id": "a11e04d2-2e75-4512-988f-fcefdcaf78c2",
   "metadata": {},
   "outputs": [],
   "source": []
  }
 ],
 "metadata": {
  "kernelspec": {
   "display_name": "dsi-sg",
   "language": "python",
   "name": "dsi-sg"
  },
  "language_info": {
   "codemirror_mode": {
    "name": "ipython",
    "version": 3
   },
   "file_extension": ".py",
   "mimetype": "text/x-python",
   "name": "python",
   "nbconvert_exporter": "python",
   "pygments_lexer": "ipython3",
   "version": "3.9.13"
  }
 },
 "nbformat": 4,
 "nbformat_minor": 5
}
